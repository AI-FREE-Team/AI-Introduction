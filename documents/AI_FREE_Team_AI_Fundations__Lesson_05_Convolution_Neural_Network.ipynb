{
  "nbformat": 4,
  "nbformat_minor": 0,
  "metadata": {
    "accelerator": "GPU",
    "colab": {
      "provenance": []
    },
    "kernelspec": {
      "display_name": "Python 3",
      "name": "python3"
    }
  },
  "cells": [
    {
      "cell_type": "markdown",
      "metadata": {
        "id": "LJyIFimFTiwP"
      },
      "source": [
        "![人工智慧 - 自由團隊](https://raw.githubusercontent.com/chenkenanalytic/img/master/af/aifreeteam.png)\n",
        "\n",
        "\n",
        "<center>Welcome to the course《Python: from business analytics to Artificial Intelligence》by AI . FREE Team.</center>\n",
        "<br>\n",
        "<center>歡迎大家來到 AI . FREE Team 《Python 從商業分析到人工智慧》的 AI 基礎教學 - Lesson 05 Convolution Neural Network (3-05)。 </center>\n",
        "<br>\n",
        "\n",
        "<center>(Author: Chen Ken；Date of published: 2021//；AI . FREE Team Website: https://aifreeblog.herokuapp.com/)</center>"
      ]
    },
    {
      "cell_type": "markdown",
      "metadata": {
        "id": "MG2kAgokoYWF"
      },
      "source": [
        "# 卷積神經網路\n"
      ]
    },
    {
      "cell_type": "markdown",
      "metadata": {
        "id": "TN6w7-92o7uY"
      },
      "source": [
        "在上一篇教學，我們使用深度神經網路框架 (tensorflow & Keras)，架構出簡易的圖片辨識器，但是針對模型的辨識準確率及訓練效率，似乎不是太過理想，因此針對影像相關 AI 演算法的開發，我們將使用卷積神經網路優化模型架構。"
      ]
    },
    {
      "cell_type": "markdown",
      "metadata": {
        "id": "jmE19QDujVeU"
      },
      "source": [
        "## STEP 0. 註冊 Kaggel 帳號 & 下載貓狗辨識資料集\n",
        "\n",
        "Kaggle 貓狗競賽網址： https://www.kaggle.com/c/dogs-vs-cats\n",
        "\n",
        "※ 下載完資料集，並上傳、解壓縮 (或是透過google drive連結，每次使用此教學即可避免重複上傳)"
      ]
    },
    {
      "cell_type": "code",
      "metadata": {
        "id": "fM0UCPzWjb_s"
      },
      "source": [
        "### 資料上傳時間，依電腦網速而定\n",
        "from google.colab import files\n",
        "uploaded = files.upload()"
      ],
      "execution_count": null,
      "outputs": []
    },
    {
      "cell_type": "code",
      "metadata": {
        "id": "K8j0c-vtr-C7"
      },
      "source": [
        "### 解壓縮資料集，路徑請依據實際情況調整\n",
        "!unzip \"/content/dogs-vs-cats.zip\"\n",
        "!unzip \"/content/train.zip\"\n",
        "!unzip \"/content/test1.zip\""
      ],
      "execution_count": null,
      "outputs": []
    },
    {
      "cell_type": "markdown",
      "metadata": {
        "id": "PdUpf2XjqfIe"
      },
      "source": [
        "## STEP 1. 資料集基礎整理"
      ]
    },
    {
      "cell_type": "code",
      "metadata": {
        "id": "EIwkpsFJoA4G"
      },
      "source": [
        "# 建立資料夾\n",
        "!mkdir -p training/cats\n",
        "!mkdir -p training/dogs\n",
        "!mkdir -p valid/cats\n",
        "!mkdir -p valid/dogs"
      ],
      "execution_count": null,
      "outputs": []
    },
    {
      "cell_type": "code",
      "metadata": {
        "id": "oT1lLxslw5mr"
      },
      "source": [
        "# 資料分類 (tensorflow 內建模組 - 透過資料夾分類作為 label)\n",
        "import os\n",
        "os.chdir(\"train\")\n",
        "!cp cat.?.jpg cat.??.jpg cat.???.jpg cat.????.jpg ../training/cats/\n",
        "!cp dog.?.jpg dog.??.jpg dog.???.jpg dog.????.jpg ../training/dogs/\n",
        "!cp cat.1????.jpg ../valid/cats/\n",
        "!cp dog.1????.jpg ../valid/dogs/\n",
        "os.chdir(\"/content\")"
      ],
      "execution_count": null,
      "outputs": []
    },
    {
      "cell_type": "markdown",
      "metadata": {
        "id": "S4IOspeZZnaf"
      },
      "source": [
        "## STEP 2. 認識卷積 (convolution)"
      ]
    },
    {
      "cell_type": "markdown",
      "metadata": {
        "id": "YZcPDXMmtGEH"
      },
      "source": [
        "卷積矩陣在電腦視覺領域，作為圖像處理的工具，可進行圖片的資訊擷取，例如：邊緣偵測(圖片的輪廓)、色彩的過濾等等，我們先來認識卷積矩陣如何進行邊緣偵測。"
      ]
    },
    {
      "cell_type": "code",
      "metadata": {
        "id": "3ucYoskLhwzI"
      },
      "source": [
        "from PIL import Image\n",
        "from numpy import *\n",
        "import matplotlib.pyplot as plt\n",
        "import matplotlib.image as mpimg\n",
        "from scipy import signal\n",
        "\n",
        "### 圖片位置 (可嘗試不同圖片)\n",
        "img_path = '/content/test1/10019.jpg'\n",
        "\n",
        "### 讀取圖片\n",
        "image = Image.open(img_path)\n",
        "\n",
        "### 轉為黑白圖片\n",
        "image_b = image.convert('1')\n",
        "\n",
        "### 將圖像矩陣，轉換成 2D 的圖像矩陣\n",
        "A = array(image_b)\n",
        "new_image = empty((A.shape[0],A.shape[1]),None)\n",
        "for i in range(len(A)):\n",
        "    for j in range(len(A[i])):\n",
        "        if A[i][j]==True:\n",
        "            new_image[i][j]=0\n",
        "        else:\n",
        "            new_image[i][j]=1\n",
        "\n",
        "plt.imshow(new_image,cmap='gray')\n",
        "plt.axis('off')\n",
        "plt.show()"
      ],
      "execution_count": null,
      "outputs": []
    },
    {
      "cell_type": "code",
      "metadata": {
        "id": "h10a_NmNaLnR"
      },
      "source": [
        "# 卷積矩陣 (可更換矩陣中的數值，看看運算結果有何不同)\n",
        "k = [\n",
        "    [1, 0, -1],\n",
        "    [1, 0, -1],\n",
        "    [1, 0, -1]\n",
        "    ]\n",
        "\n",
        "### 顯示原始圖片 - 黑白圖片\n",
        "plt.figure(figsize=(15,15))\n",
        "plt.subplot(1,2,1)\n",
        "plt.imshow(new_image,cmap='gray')\n",
        "plt.axis('off')\n",
        "plt.title('Gray Image')\n",
        "\n",
        "### 顯示邊緣偵測後的圖片\n",
        "plt.subplot(1,2,2)\n",
        "\n",
        "### 黑白圖片與卷積矩陣進行運算\n",
        "edge = signal.convolve2d(new_image, k, boundary='symm', mode='same')\n",
        "plt.imshow(edge,cmap='gray')\n",
        "plt.axis('off')\n",
        "plt.title('Edge Detection')"
      ],
      "execution_count": null,
      "outputs": []
    },
    {
      "cell_type": "markdown",
      "metadata": {
        "id": "V8lLUOo9t1zQ"
      },
      "source": [
        "### ※【重要觀察】卷積矩陣\n",
        "\n",
        "從上面的範例，可以發現卷積矩陣能夠透過運算進行圖片資訊的擷取，根據此特性，AI 研究者便應用了卷積矩陣於神經網路中，透過圖像任務的學習，讓梯度去更新卷積矩陣的權重，故稱作卷積神經網絡，也因為卷積矩陣能夠有效地去處理圖片的資訊，甚至能減少神經網路的模型參數，因此奠定卷積神經網路在 AI 電腦視覺領域的地位。\n",
        "\n",
        "接下來我們使用卷積神經網路來進行貓狗辨識。"
      ]
    },
    {
      "cell_type": "markdown",
      "metadata": {
        "id": "VFH81c1VStyy"
      },
      "source": [
        "## STEP 3. 引入框架與開發套件"
      ]
    },
    {
      "cell_type": "code",
      "metadata": {
        "id": "Tf5DtSoU_u9q"
      },
      "source": [
        "import tensorflow as tf\n",
        "\n",
        "### flatten 轉換圖片為矩陣；Dense 為一般類神經網路層\n",
        "from tensorflow.python.keras.layers import Flatten, Dense\n",
        "\n",
        "### 使用 ImageDataGenerator 作為資料擴增用途\n",
        "from tensorflow.python.keras.preprocessing.image import ImageDataGenerator"
      ],
      "execution_count": null,
      "outputs": []
    },
    {
      "cell_type": "markdown",
      "metadata": {
        "id": "4xRVvNmbAcPn"
      },
      "source": [
        "## STEP 4. 基礎參數設定"
      ]
    },
    {
      "cell_type": "code",
      "metadata": {
        "id": "DiT_rYDoB7dp"
      },
      "source": [
        "# 圖片檔案路徑 (依據實際開發過程調整路徑)\n",
        "train_data_path = \"training\"\n",
        "valid_data_path = \"valid\"\n",
        "\n",
        "# 影像大小\n",
        "image_size = (224, 224)\n",
        "\n",
        "# 每一次訓練的圖片數量 (若 batch_size 太大，會導致 GPU 記憶體不夠用)\n",
        "batch_size = 64\n",
        "\n",
        "# Epoch 數\n",
        "epochs = 20"
      ],
      "execution_count": null,
      "outputs": []
    },
    {
      "cell_type": "markdown",
      "metadata": {
        "id": "JUSUVzqwB9nZ"
      },
      "source": [
        "## STEP 5. 資料擴增 Data Augmentation"
      ]
    },
    {
      "cell_type": "code",
      "metadata": {
        "id": "hoY1rzeqCk5p"
      },
      "source": [
        "# 透過資料擴增，增加訓練及驗證的資料集\n",
        "train_datagen = ImageDataGenerator(rotation_range=40,\n",
        "                                   width_shift_range=0.2,\n",
        "                                   height_shift_range=0.2,\n",
        "                                   shear_range=0.2,\n",
        "                                   zoom_range=0.2,\n",
        "                                   channel_shift_range=10,\n",
        "                                   horizontal_flip=True,\n",
        "                                   fill_mode='nearest')\n",
        "\n",
        "train_batches = train_datagen.flow_from_directory(train_data_path,\n",
        "                                                  target_size=image_size,\n",
        "                                                  interpolation='bicubic',\n",
        "                                                  class_mode='categorical',\n",
        "                                                  shuffle=True,\n",
        "                                                  batch_size=batch_size)\n",
        "\n",
        "valid_datagen = ImageDataGenerator()\n",
        "valid_batches = valid_datagen.flow_from_directory(valid_data_path,\n",
        "                                                  target_size=image_size,\n",
        "                                                  interpolation='bicubic',\n",
        "                                                  class_mode='categorical',\n",
        "                                                  shuffle=False,\n",
        "                                                  batch_size=batch_size)"
      ],
      "execution_count": null,
      "outputs": []
    },
    {
      "cell_type": "markdown",
      "metadata": {
        "id": "damlhBMJCnSn"
      },
      "source": [
        "## STEP 6. 檢視資料集及標籤"
      ]
    },
    {
      "cell_type": "code",
      "metadata": {
        "id": "RAjz04pGCz8A"
      },
      "source": [
        "for name, label in train_batches.class_indices.items():\n",
        "    print('類別編號：【{}】 為 {}'.format(label, name))"
      ],
      "execution_count": null,
      "outputs": []
    },
    {
      "cell_type": "markdown",
      "metadata": {
        "id": "_UZOaSixDSSx"
      },
      "source": [
        "## STEP 7. 建構卷積神經模型\n",
        "\n",
        "使用 keras 建構卷積神經模型"
      ]
    },
    {
      "cell_type": "code",
      "metadata": {
        "id": "hMgSpCy_Ss8b"
      },
      "source": [
        "### 定義 sequential 模型，使開發者可透過一層一層地堆疊模型層數\n",
        "model = tf.keras.models.Sequential()\n",
        "\n",
        "### 圖片的大小為 224 * 224 * 3 (後面的乘三為 rgb)\n",
        "model.add(tf.keras.Input(shape=(image_size[0],image_size[1],3)))\n",
        "\n",
        "### 建立一連串卷積層及池化層\n",
        "model.add(tf.keras.layers.Conv2D(32, kernel_size = (3,3), activation='relu'))\n",
        "model.add(tf.keras.layers.BatchNormalization())\n",
        "model.add(tf.keras.layers.MaxPooling2D(pool_size = (2,2)))\n",
        "# model.add(tf.keras.layers.Dropout(0.25))\n",
        "model.add(tf.keras.layers.Conv2D(64, kernel_size = (3,3), activation='relu'))\n",
        "model.add(tf.keras.layers.BatchNormalization())\n",
        "model.add(tf.keras.layers.MaxPooling2D(pool_size = (2,2)))\n",
        "# model.add(tf.keras.layers.Dropout(0.25))\n",
        "model.add(tf.keras.layers.Conv2D(128, kernel_size = (3,3), activation='relu'))\n",
        "model.add(tf.keras.layers.BatchNormalization())\n",
        "model.add(tf.keras.layers.MaxPooling2D(pool_size = (2,2)))\n",
        "model.add(tf.keras.layers.Dropout(0.25))\n",
        "\n",
        "### 轉成全連接層\n",
        "model.add(Flatten())\n",
        "\n",
        "### 第一層神經網絡 (512) 個神經元)\n",
        "model.add(Dense(512))\n",
        "\n",
        "### 使用 relu 作為啟動函數\n",
        "model.add(tf.keras.layers.Activation(tf.keras.activations.relu))\n",
        "\n",
        "### 使用 dropout 避免 overfitting\n",
        "model.add(tf.keras.layers.Dropout(0.5))\n",
        "\n",
        "### 第三層神經網絡 (2 個神經元 → 因為將預測出貓或狗的機率)\n",
        "model.add(Dense(2))\n",
        "\n",
        "### 多類別辨識使用 softmax 作為啟動函數\n",
        "model.add(tf.keras.layers.Activation(tf.keras.activations.softmax))\n",
        "\n",
        "### 檢視模型的架構\n",
        "model.summary()"
      ],
      "execution_count": null,
      "outputs": []
    },
    {
      "cell_type": "markdown",
      "metadata": {
        "id": "VbrNYvAmFYTZ"
      },
      "source": [
        "## STEP 8. 設定優化器與開始訓練"
      ]
    },
    {
      "cell_type": "code",
      "metadata": {
        "id": "cfdEZGO4Fi1H"
      },
      "source": [
        "### 使用 Adam 優化器；損失函數使用分類交叉熵\n",
        "model.compile(loss='categorical_crossentropy', optimizer='adam', metrics=['accuracy'])\n",
        "\n",
        "### 開始訓練\n",
        "model.fit_generator(train_batches,\n",
        "                    steps_per_epoch = train_batches.samples // batch_size,\n",
        "                    validation_data = valid_batches,\n",
        "                    validation_steps = valid_batches.samples // batch_size,\n",
        "                    epochs = epochs)"
      ],
      "execution_count": null,
      "outputs": []
    },
    {
      "cell_type": "markdown",
      "metadata": {
        "id": "9_zZYa_9GIHu"
      },
      "source": [
        "## STEP 9. 模型驗證與辨識\n",
        "\n",
        "可嘗試使用 test1 資料夾的圖片做驗證，或上傳貓狗圖片嘗試做辨識。"
      ]
    },
    {
      "cell_type": "code",
      "metadata": {
        "id": "5uMnGb8p3kEI"
      },
      "source": [
        "from tensorflow.python.keras.preprocessing import image\n",
        "import sys\n",
        "import os\n",
        "import numpy as np\n",
        "import matplotlib.pyplot as plt\n",
        "import matplotlib.image as mpimg\n",
        "\n",
        "### 圖片位置\n",
        "img_path = '/content/test1/10315.jpg'\n",
        "\n",
        "### 讀取圖片\n",
        "img = image.load_img(img_path, target_size=(224, 224))\n",
        "\n",
        "### 轉換圖片為矩陣\n",
        "x = image.img_to_array(img)\n",
        "x = np.expand_dims(x, axis = 0)\n",
        "\n",
        "### 進行辨識\n",
        "recog = model.predict(x)[0]\n",
        "\n",
        "### 查看辨識結果\n",
        "print(\"判別為貓的機率為： \", recog[0] * 100, \" %\")\n",
        "print(\"判別為狗的機率為： \", recog[1] * 100, \" %\")\n",
        "\n",
        "image = mpimg.imread(img_path)\n",
        "plt.imshow(image)\n",
        "plt.axis('off')\n",
        "plt.show()\n",
        "\n",
        "if recog[0] > recog[1]:\n",
        "  print(\"因此合理推斷，圖片應為貓的圖片！\")\n",
        "else:\n",
        "  print(\"因此合理推斷，圖片應為狗的圖片！\")"
      ],
      "execution_count": null,
      "outputs": []
    },
    {
      "cell_type": "markdown",
      "metadata": {
        "id": "A5fSUAV_NlGg"
      },
      "source": [
        "#結論與發現"
      ]
    },
    {
      "cell_type": "markdown",
      "metadata": {
        "id": "Qn07j2Xo0t08"
      },
      "source": [
        "透過開發卷積神經網路，可以發現模型的訓練效率以及參數數量大幅減少 (上一篇教學：近4億個參數；本篇僅4千多萬)，\n",
        "\n",
        "在相差近十倍的模型參數下，卷積神經網路展現了更佳的準確率！\n",
        "\n",
        "因此我們可以確知卷積神經網路在現今 AI 電腦視覺的地位，\n",
        "\n",
        "此外，談到電腦視覺，多數資料科學家的起手任務多為 MNIST (手寫阿拉伯數字辨識)，\n",
        "\n",
        "link: http://yann.lecun.com/exdb/mnist/\n",
        "\n",
        "感興趣的讀者，可以嘗試將本篇範例嘗試修改為 MNIST 的辨識任務，\n",
        "\n",
        "下一篇教學，我們將帶領讀者實作：繁體中文手寫辨識。"
      ]
    },
    {
      "cell_type": "markdown",
      "source": [
        "# 更深入的教學與專案實作\n",
        "\n",
        "如果你/妳對於深入開發 AI 技術的專案有興趣，想嘗試更多、更有趣、更扎實的實務AI技術專案，\n",
        "\n",
        "歡迎參考我們從0到1的AI技術課程：[《學習 AI 一把抓：點亮人工智慧技能樹》](https://hahow.in/cr/slashie-ai-free-team)！"
      ],
      "metadata": {
        "id": "6X4jsuSKEN7E"
      }
    },
    {
      "cell_type": "markdown",
      "metadata": {
        "id": "l9KkN2cXhgCB"
      },
      "source": [
        "# 課程文件\n",
        "\n",
        "### AI Foundations 課程清單\n",
        "- <a href=\"https://colab.research.google.com/github/AI-FREE-Team/Python-Basics/blob/master/documents/Lesson00%20Preface.ipynb\">Lesson 00 Preface 課程前言</a>\n",
        "- <a href=\"https://colab.research.google.com/github/AI-FREE-Team/Python-Basics/blob/master/documents/Lesson00%20Preface.ipynb\">Lesson 01 MP model</a>\n",
        "- <a href=\"https://colab.research.google.com/github/AI-FREE-Team/Python-Basics/blob/master/documents/Lesson00%20Preface.ipynb\">Lesson 02 Logistic Regression</a>\n",
        "- <a href=\"https://colab.research.google.com/github/AI-FREE-Team/Python-Basics/blob/master/documents/Lesson00%20Preface.ipynb\">Lesson 03 Neural Network</a>\n",
        "- <a href=\"https://colab.research.google.com/github/AI-FREE-Team/Python-Basics/blob/master/documents/Lesson00%20Preface.ipynb\">Lesson 04 Deep Neural Network</a>\n",
        "- <a href=\"https://colab.research.google.com/github/AI-FREE-Team/Python-Basics/blob/master/documents/Lesson00%20Preface.ipynb\">Lesson 05 Convolution Neural Network</a> (We are here now! --本篇課程--)\n",
        "- <a href=\"https://colab.research.google.com/github/AI-FREE-Team/Python-Basics/blob/master/documents/Lesson00%20Preface.ipynb\">Lesson 06 Handwriting Traditional Chinese Characters Recognition</a>\n",
        "- <a href=\"https://colab.research.google.com/github/AI-FREE-Team/Python-Basics/blob/master/documents/Lesson00%20Preface.ipynb\">Lesson 07 Sentiment Analysis</a>"
      ]
    },
    {
      "cell_type": "code",
      "metadata": {
        "id": "D4fDiivP5ajm"
      },
      "source": [],
      "execution_count": null,
      "outputs": []
    }
  ]
}