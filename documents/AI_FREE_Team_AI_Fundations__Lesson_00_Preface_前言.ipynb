{
  "nbformat": 4,
  "nbformat_minor": 0,
  "metadata": {
    "colab": {
      "provenance": []
    },
    "kernelspec": {
      "name": "python3",
      "display_name": "Python 3"
    }
  },
  "cells": [
    {
      "cell_type": "markdown",
      "metadata": {
        "id": "LJyIFimFTiwP"
      },
      "source": [
        "![人工智慧 - 自由團隊](https://raw.githubusercontent.com/chenkenanalytic/img/master/af/aifreeteam.png)\n",
        "\n",
        "\n",
        "<center>Welcome to the course《Python: from business analytics to Artificial Intelligence》by AI . FREE Team.</center>\n",
        "<br>\n",
        "<center>歡迎大家來到 AI . FREE Team 《Python 從商業分析到人工智慧》的 AI 基礎教學 - Lesson 00 課程前言 (3-00)。 </center>\n",
        "<br>\n",
        "\n",
        "<center>(Author: Chen Ken；Date of published: 2021//；AI . FREE Team Website: https://aifreeblog.herokuapp.com/)</center>"
      ]
    },
    {
      "cell_type": "markdown",
      "metadata": {
        "id": "Jipsj4JdfMhF"
      },
      "source": [
        "# Preface 前言"
      ]
    },
    {
      "cell_type": "markdown",
      "metadata": {
        "id": "x0lUxeGvfOeD"
      },
      "source": [
        "## 1. 教學目標"
      ]
    },
    {
      "cell_type": "markdown",
      "metadata": {
        "id": "eg_40ao9ffN9"
      },
      "source": [
        "本 AI 基礎教學，將帶著讀者去體驗與認識人工智慧相關程式碼的開發與應用，相關理論、數學公式、演算法等背景知識，考量到教學文章篇幅，將提供相關文獻資訊供讀者查找，則不在教學內容中說明。"
      ]
    },
    {
      "cell_type": "markdown",
      "metadata": {
        "id": "nmH_tkoWg6c2"
      },
      "source": [
        "## 2. 內容大綱"
      ]
    },
    {
      "cell_type": "markdown",
      "metadata": {
        "id": "WDWuDmyWg-v9"
      },
      "source": [
        "1.\t類神經網絡\n",
        "  -\tMP model\n",
        "  -\tLogistic regression\n",
        "  -\tNeural network\n",
        "  -\tDeep neural network\n",
        "2.\t電腦視覺\n",
        "  -\t貓狗辨識 (binary classification)\n",
        "  -\t繁體中文手寫辨識 (multi-classification)\n",
        "3.\t自然語言\n",
        "  -\tSentiment analysis\n",
        "  -\tAI 解夢生成"
      ]
    },
    {
      "cell_type": "markdown",
      "source": [
        "# 更深入的教學與專案實作\n",
        "\n",
        "如果你/妳對於深入開發 AI 技術的專案有興趣，想嘗試更多、更有趣、更扎實的實務AI技術專案，\n",
        "\n",
        "歡迎參考我們從0到1的AI技術課程：[《學習 AI 一把抓：點亮人工智慧技能樹》](https://hahow.in/cr/slashie-ai-free-team)！"
      ],
      "metadata": {
        "id": "6X4jsuSKEN7E"
      }
    },
    {
      "cell_type": "markdown",
      "metadata": {
        "id": "l9KkN2cXhgCB"
      },
      "source": [
        "# 課程文件\n",
        "\n",
        "### AI Foundations 課程清單\n",
        "- <a href=\"https://colab.research.google.com/github/AI-FREE-Team/Python-Basics/blob/master/documents/Lesson00%20Preface.ipynb\">Lesson 00 Preface 課程前言</a> (We are here now! --本篇課程--)\n",
        "- <a href=\"https://colab.research.google.com/github/AI-FREE-Team/Python-Basics/blob/master/documents/Lesson00%20Preface.ipynb\">Lesson 01 MP model</a>\n",
        "- <a href=\"https://colab.research.google.com/github/AI-FREE-Team/Python-Basics/blob/master/documents/Lesson00%20Preface.ipynb\">Lesson 02 Logistic Regression</a>\n",
        "- <a href=\"https://colab.research.google.com/github/AI-FREE-Team/Python-Basics/blob/master/documents/Lesson00%20Preface.ipynb\">Lesson 03 Neural Network</a>\n",
        "- <a href=\"https://colab.research.google.com/github/AI-FREE-Team/Python-Basics/blob/master/documents/Lesson00%20Preface.ipynb\">Lesson 04 Deep Neural Network</a>\n",
        "- <a href=\"https://colab.research.google.com/github/AI-FREE-Team/Python-Basics/blob/master/documents/Lesson00%20Preface.ipynb\">Lesson 05 Convolution Neural Network</a>\n",
        "- <a href=\"https://colab.research.google.com/github/AI-FREE-Team/Python-Basics/blob/master/documents/Lesson00%20Preface.ipynb\">Lesson 06 Handwriting Traditional Chinese Characters Recognition</a>\n",
        "- <a href=\"https://colab.research.google.com/github/AI-FREE-Team/Python-Basics/blob/master/documents/Lesson00%20Preface.ipynb\">Lesson 07 Sentiment Analysis</a>"
      ]
    },
    {
      "cell_type": "code",
      "metadata": {
        "id": "yObS0GqvfdqQ"
      },
      "source": [],
      "execution_count": null,
      "outputs": []
    }
  ]
}